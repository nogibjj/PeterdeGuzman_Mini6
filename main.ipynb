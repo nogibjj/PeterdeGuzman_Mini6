{
 "cells": [
  {
   "cell_type": "markdown",
   "metadata": {},
   "source": [
    "## Record of Successful Database Operations\n",
    "\n",
    "This notebook contains the CRUD functions created in the `mylib` directory, and tests each to prove that they successfully operated."
   ]
  },
  {
   "cell_type": "code",
   "execution_count": 11,
   "metadata": {},
   "outputs": [],
   "source": [
    "# extract.py\n",
    "import requests\n",
    "import os\n",
    "\n",
    "\n",
    "def extract(\n",
    "    url=\"https://s3.amazonaws.com/dl.ncsbe.gov/ENRS/2020_11_03/polling_place_20201103.csv\",\n",
    "    filepath=\"data/pollingplaces_2020.csv\",\n",
    "    directory=\"data\",\n",
    "):\n",
    "    \"\"\"Extract to file path\"\"\"\n",
    "    if not os.path.exists(directory):\n",
    "        os.makedirs(directory)\n",
    "    with requests.get(url, timeout=5) as r:\n",
    "        with open(filepath, \"wb\") as f:\n",
    "            f.write(r.content)\n",
    "    return filepath\n",
    "\n",
    "\n",
    "if __name__ == \"__main__\":\n",
    "    if os.path.exists(\"/Users/pdeguz01/Documents/git/PeterdeGuzman_Mini5\"):\n",
    "        os.chdir(\"/Users/pdeguz01/Documents/git/PeterdeGuzman_Mini5\")\n",
    "    else:\n",
    "        print(\"Directory does not exist.\")\n",
    "\n",
    "    extract()"
   ]
  },
  {
   "cell_type": "code",
   "execution_count": 12,
   "metadata": {},
   "outputs": [],
   "source": [
    "# transform\n",
    "\n",
    "import sqlite3\n",
    "import csv\n",
    "\n",
    "\n",
    "def load(dataset=\"./data/pollingplaces_2020.csv\"):\n",
    "    data = open(dataset, newline=\"\", encoding=\"utf-16\")\n",
    "    # NCSBE data includes null bytes, which must be removed\n",
    "    payload = csv.reader((line.replace(\"\\0\", \"\") for line in data), delimiter=\"\\t\")\n",
    "    conn = sqlite3.connect(\"pollingplaces_2020.db\")\n",
    "    c = conn.cursor()\n",
    "    # generate new table for the database\n",
    "    c.execute(\"DROP TABLE IF EXISTS pollingplaces_2020\")\n",
    "    c.execute(\n",
    "        \"\"\"\n",
    "            CREATE TABLE pollingplaces_2020 (\n",
    "            id INTEGER PRIMARY KEY AUTOINCREMENT,\n",
    "            election_dt DATE,\n",
    "            county_name TEXT, \n",
    "            polling_place_id INTEGER,\n",
    "            polling_place_name TEXT,\n",
    "            precinct_name TEXT,\n",
    "            house_num INTEGER,\n",
    "            street_name TEXT, \n",
    "            city TEXT,\n",
    "            state TEXT,\n",
    "            zip TEXT)\n",
    "            \"\"\"\n",
    "    )\n",
    "    # insert values\n",
    "    c.executemany(\n",
    "        \"\"\"\n",
    "            INSERT INTO pollingplaces_2020 (\n",
    "            election_dt, \n",
    "            county_name,\n",
    "            polling_place_id,\n",
    "            polling_place_name,\n",
    "            precinct_name, \n",
    "            house_num,\n",
    "            street_name,\n",
    "            city,\n",
    "            state,\n",
    "            zip)\n",
    "            VALUES (?, ?, ?, ?, ?, ?, ?, ?, ?, ?) \n",
    "            \"\"\",\n",
    "        payload,\n",
    "    )\n",
    "    conn.commit()\n",
    "    conn.close()\n",
    "    return \"pollingplaces_2020.db\"\n",
    "\n",
    "\n",
    "if __name__ == \"__main__\":\n",
    "    load()"
   ]
  },
  {
   "cell_type": "code",
   "execution_count": 44,
   "metadata": {},
   "outputs": [],
   "source": [
    "def query_create():\n",
    "    conn = sqlite3.connect(\"pollingplaces_2020.db\")\n",
    "    cursor = conn.cursor()\n",
    "    # create query\n",
    "    cursor.execute(\n",
    "        \"\"\"\n",
    "        INSERT INTO pollingplaces_2020 \n",
    "        (election_dt,county_name,polling_place_id, polling_place_name, precinct_name, \n",
    "        house_num, street_name, city, state,zip) \n",
    "        VALUES(11/03/2020, 'DURHAM', 99, 'GROSS HALL', 'DUKE MIDS', \n",
    "        140, 'SCIENCE DRIVE', 'DURHAM', 'NC', '27708')\n",
    "        \"\"\"\n",
    "    )\n",
    "    conn.commit()\n",
    "    conn.close()\n",
    "    return \"Create Success\"\n",
    "\n",
    "\n",
    "def query_read():\n",
    "    conn = sqlite3.connect(\"pollingplaces_2020.db\")\n",
    "    cursor = conn.cursor()\n",
    "    # execute read\n",
    "    cursor.execute(\"SELECT * FROM pollingplaces_2020 LIMIT 10\")\n",
    "    conn.close()\n",
    "    return \"Read Success\"\n",
    "\n",
    "\n",
    "def query_update():\n",
    "    conn = sqlite3.connect(\"pollingplaces_2020.db\")\n",
    "    cursor = conn.cursor()\n",
    "    # update\n",
    "    cursor.execute(\"UPDATE pollingplaces_2020 SET county_name = 'DURHAM' WHERE id = 20\")\n",
    "    conn.commit()\n",
    "    conn.close()\n",
    "    return \"Update Success\"\n",
    "\n",
    "\n",
    "def query_delete():\n",
    "    conn = sqlite3.connect(\"pollingplaces_2020.db\")\n",
    "    cursor = conn.cursor()\n",
    "    # delete\n",
    "    cursor.execute(\"DELETE FROM pollingplaces_2020 WHERE id = 10\")\n",
    "    conn.commit()\n",
    "    conn.close()\n",
    "    return \"Delete Success\""
   ]
  },
  {
   "cell_type": "markdown",
   "metadata": {},
   "source": [
    "First, I create a simple test to determine if the `query_create()` function works properly. "
   ]
  },
  {
   "cell_type": "code",
   "execution_count": 40,
   "metadata": {},
   "outputs": [
    {
     "name": "stdout",
     "output_type": "stream",
     "text": [
      "A row with precinct_name 'DUKE MIDS' exists, and therefore the query_create() function worked successfully.\n"
     ]
    }
   ],
   "source": [
    "query_create()\n",
    "\n",
    "# Identifying if a polling place with precinct_name \"DUKE MIDS\" was actually created\n",
    "conn = sqlite3.connect(\"pollingplaces_2020.db\")\n",
    "cursor = conn.cursor()\n",
    "query = \"SELECT COUNT(*) FROM pollingplaces_2020 WHERE precinct_name = ?\"\n",
    "cursor.execute(query, (\"DUKE MIDS\",))\n",
    "exists = cursor.fetchone()[0] > 0\n",
    "\n",
    "if exists:\n",
    "    print(\n",
    "        \"A row with precinct_name 'DUKE MIDS' exists, and therefore the query_create() function worked successfully.\"\n",
    "    )\n",
    "else:\n",
    "    print(\"No row with precinct_name 'DUKE MIDS' found.\")\n",
    "\n",
    "cursor.close()\n",
    "conn.close()"
   ]
  },
  {
   "cell_type": "markdown",
   "metadata": {},
   "source": [
    "Next, I create a simple test to determine if the `query_update()` function works properly. "
   ]
  },
  {
   "cell_type": "code",
   "execution_count": 46,
   "metadata": {},
   "outputs": [
    {
     "name": "stdout",
     "output_type": "stream",
     "text": [
      "The county_name of the 20th record is 'DURHAM', therefore the query_update() function worked successfully.\n"
     ]
    }
   ],
   "source": [
    "query_update()\n",
    "# Identifying if the county_name of the 20th record was successfully updated.\n",
    "conn = sqlite3.connect(\"pollingplaces_2020.db\")\n",
    "cursor = conn.cursor()\n",
    "query = \"SELECT county_name FROM pollingplaces_2020 WHERE id = 20\"\n",
    "cursor.execute(query)\n",
    "result = cursor.fetchone()\n",
    "\n",
    "if result and result[0] == \"DURHAM\":\n",
    "    print(\n",
    "        \"The county_name of the 20th record is 'DURHAM', therefore the query_update() function worked successfully.\"\n",
    "    )\n",
    "else:\n",
    "    print(\"The 20th record's county name is not 'DURHAM'.\")\n",
    "\n",
    "cursor.close()\n",
    "conn.close()"
   ]
  },
  {
   "cell_type": "markdown",
   "metadata": {},
   "source": [
    "Finally, I create a simple test to determine if there `query_delete()` function works properly."
   ]
  },
  {
   "cell_type": "code",
   "execution_count": 42,
   "metadata": {},
   "outputs": [
    {
     "name": "stdout",
     "output_type": "stream",
     "text": [
      "No row with id = 10 found.\n"
     ]
    }
   ],
   "source": [
    "query_delete()\n",
    "# Identifying if the 10th record was successfully deleted.\n",
    "conn = sqlite3.connect(\"pollingplaces_2020.db\")\n",
    "cursor = conn.cursor()\n",
    "query = \"SELECT COUNT(*) FROM pollingplaces_2020 WHERE id = 10\"\n",
    "cursor.execute(query)\n",
    "exists = cursor.fetchone()[0] > 0\n",
    "\n",
    "if exists:\n",
    "    print(\n",
    "        \"A row with id = 10 exists, therefore the query_delete() function did not work successfully.\"\n",
    "    )\n",
    "else:\n",
    "    print(\"No row with id = 10 found.\")\n",
    "\n",
    "cursor.close()\n",
    "conn.close()"
   ]
  }
 ],
 "metadata": {
  "kernelspec": {
   "display_name": "base",
   "language": "python",
   "name": "python3"
  },
  "language_info": {
   "codemirror_mode": {
    "name": "ipython",
    "version": 3
   },
   "file_extension": ".py",
   "mimetype": "text/x-python",
   "name": "python",
   "nbconvert_exporter": "python",
   "pygments_lexer": "ipython3",
   "version": "3.12.5"
  }
 },
 "nbformat": 4,
 "nbformat_minor": 2
}
